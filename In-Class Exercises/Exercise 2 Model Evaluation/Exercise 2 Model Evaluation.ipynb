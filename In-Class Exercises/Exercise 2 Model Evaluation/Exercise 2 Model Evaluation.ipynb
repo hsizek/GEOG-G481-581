{
 "cells": [
  {
   "cell_type": "markdown",
   "metadata": {},
   "source": [
    "In Python, we need to import various libraries to help us with reading/manipulating data (Pandas), performing numerical calculations (NumPy) and plotting data (Matplotlib). For more information on all these libraries please see the course notes for GEOG-G489/589 Big Data Geospatial Analysis in Python: https://github.com/nmacbean/GEOG-G489-589"
   ]
  },
  {
   "cell_type": "code",
   "execution_count": 6,
   "metadata": {},
   "outputs": [],
   "source": [
    "import numpy as np\n",
    "import pandas as pd\n",
    "import matplotlib.pyplot as plt"
   ]
  },
  {
   "cell_type": "markdown",
   "metadata": {},
   "source": [
    "# Exercise 2: Model Evaluation\n",
    "\n",
    "In this exercise we will use the same model code that we defined in Exercise 1 \"Building a simple 2 pool carbon cycle model\". First we redefine the model code and read in inputs. In the second part of the exercise we will also read in some observations that we will use to evaluate the model.\n",
    "\n",
    "Learning outcomes:\n",
    "- Practice how to evaluate model by plotting against a timeseries of observations.\n",
    "- Learn about typical metrics we use to evaluate models."
   ]
  },
  {
   "cell_type": "markdown",
   "metadata": {},
   "source": [
    "## Model Code\n",
    "\n",
    "As we learnt in Exercise 1 \"Building the Model\", we first need to set up the model code. The code boxes below are ordered in a typical structure we might have in a model script:\n",
    "1. Defining parameters and unit conversions\n",
    "2. Read input data and calculate the number of timesteps.\n",
    "2. Initialize model variables\n",
    "3. Equations for the model limitation functions\n",
    "4. Code for running the actual model - i.e. looping over timesteps"
   ]
  },
  {
   "cell_type": "code",
   "execution_count": 7,
   "metadata": {},
   "outputs": [],
   "source": [
    "# -\n",
    "# - set default parameters\n",
    "# -\n",
    "Q10 = 2.\n",
    "Tref = 303.15    # 30 degrees C in K\n",
    "Wf_m = -2.\n",
    "Wf_x0 = 0.6\n",
    "Wf_min = 0.05\n",
    "Wf_max = 1.\n",
    "tau_litter = 0.5\n",
    "tau_soil = 60\n",
    "Me_litter = 0.3\n",
    "Me_soil = 0.1\n",
    "C_litter_t0 = 3\n",
    "C_soil_t0 = 22\n",
    "\n",
    "# -\n",
    "# - other \n",
    "# - \n",
    "dt = 1/365.\n",
    "npools = 2"
   ]
  },
  {
   "cell_type": "code",
   "execution_count": 8,
   "metadata": {},
   "outputs": [],
   "source": [
    "# - unit conversions\n",
    "degC_to_K = 273.15\n",
    "gC_to_kgC = 1e-3"
   ]
  },
  {
   "cell_type": "code",
   "execution_count": 9,
   "metadata": {},
   "outputs": [],
   "source": [
    "# - read in inputs\n",
    "input_file = 'inputs/carbon_2pool_model_inputs.csv'\n",
    "input_data = pd.read_csv(input_file, index_col=0)\n",
    "\n",
    "# - convert temperature to K\n",
    "input_data.LITTER_TEMP += degC_to_K\n",
    "input_data.SOIL_TEMP += degC_to_K\n",
    "\n",
    "# - convert litter input to kgC\n",
    "input_data.LITTER_INPUT *= gC_to_kgC"
   ]
  },
  {
   "cell_type": "code",
   "execution_count": 10,
   "metadata": {},
   "outputs": [],
   "source": [
    "# - calculate the number of timesteps from the input data\n",
    "ntsteps = len(input_data.index)"
   ]
  },
  {
   "cell_type": "code",
   "execution_count": 11,
   "metadata": {},
   "outputs": [],
   "source": [
    "# -\n",
    "# - initialize model variables\n",
    "# -\n",
    "\n",
    "# - litter and soil C pools (want to save time series)\n",
    "Cpools = np.zeros((ntsteps+1, npools))\n",
    "Cpools[0,0] = C_litter_t0\n",
    "Cpools[0,1] = C_soil_t0\n",
    "\n",
    "# - litter and soil Rh (want to save timeseries)\n",
    "Rh = np.zeros((ntsteps, npools))\n",
    "\n",
    "# - total C decomp each tstep\n",
    "Cdecomp = np.zeros(npools)\n",
    "\n",
    "# - total C transferred\n",
    "Ctrans = np.zeros(npools)"
   ]
  },
  {
   "cell_type": "code",
   "execution_count": 12,
   "metadata": {},
   "outputs": [],
   "source": [
    "# -\n",
    "# - temperature function for litter and soil\n",
    "# -\n",
    "ftemp_litter = Q10**((input_data.LITTER_TEMP - Tref)/10.)\n",
    "ftemp_soil = Q10**((input_data.SOIL_TEMP - Tref)/10.)"
   ]
  },
  {
   "cell_type": "code",
   "execution_count": 13,
   "metadata": {},
   "outputs": [],
   "source": [
    "# -\n",
    "# - moisture function\n",
    "# -\n",
    "fmoist_litter = np.maximum(Wf_min, Wf_max + Wf_m * ( (input_data.LITTER_MOIST - Wf_x0)**2 ))\n",
    "fmoist_soil = np.maximum(Wf_min, Wf_max + Wf_m * ( (input_data.SOIL_MOIST - Wf_x0)**2 ))"
   ]
  },
  {
   "cell_type": "code",
   "execution_count": 14,
   "metadata": {},
   "outputs": [],
   "source": [
    "# -\n",
    "# - begin model simulations\n",
    "# -\n",
    "\n",
    "# - set up for loop over total number of timesteps in input data\n",
    "for nt in np.arange(ntsteps):\n",
    "    \n",
    "    # - calculate the total amount of C decomposed in each pool (prior to splitting between C transferred and Rh) (Eq. 1)\n",
    "    Cdecomp[0] = Cpools[nt,0] * (dt/tau_litter) * ftemp_litter[nt] * fmoist_litter[nt]\n",
    "    Cdecomp[1] = Cpools[nt,1] * (dt/tau_soil) * ftemp_soil[nt] * fmoist_soil[nt]\n",
    "    \n",
    "    # - calculate the fraction of C transferred from one pool to the other (Eqns. 2 and 4)\n",
    "    Ctrans[0] = Cdecomp[0] * Me_litter\n",
    "    Ctrans[1] = Cdecomp[1] * Me_soil\n",
    "    \n",
    "    # - calculate the heterotrophic respiration in each pool (Eqns. 3 and 5)\n",
    "    Rh[nt,0] = Cdecomp[0] * (1. - Me_litter)\n",
    "    Rh[nt,1] = Cdecomp[1] * (1. - Me_soil)\n",
    "    \n",
    "    # - calculate evolution of C pools (Eqns. 6 and 7) --> NOTE: updating C pool from current to next tstep\n",
    "    Cpools[nt+1,0] = Cpools[nt,0] + input_data.LITTER_INPUT[nt] - Cdecomp[0] + Ctrans[1]\n",
    "    Cpools[nt+1,1] = Cpools[nt,1] + Ctrans[0] - Cdecomp[1]\n",
    "\n",
    "# -\n",
    "# - end of the model\n",
    "# -"
   ]
  },
  {
   "cell_type": "markdown",
   "metadata": {},
   "source": [
    "-------\n",
    "Note that in a larger model these different components might be defined in different scripts that we might refer to as \"modules\", i.e. the parameters would be defined in one script, inputs read in in another etc. The input data (and outputs) would then get passed around different modules as different components were calculated (e.g. first photosynthetic C uptake in one script, allocation to different biomass pools in another, litterfall in another etc)."
   ]
  },
  {
   "cell_type": "markdown",
   "metadata": {},
   "source": [
    "## Model Evaluation\n",
    "\n",
    "Model evaluation - comparing model simulations to independent data/observations - is a very standard part of the model development cycle:\n",
    "\n",
    "![model development](model_development_figure.png)\n",
    "\n",
    "Model evaluation is also often called model benchmarking.\n",
    "\n",
    "Only by comparing to observations can we see if the model comes close to representing reality. Ideally, model evaluation will be performed across a range of sites/biomes and scales (i.e. site level to global scale products such as satellite-derived datasets).\n",
    "\n",
    "One initiative to facilitate comprehensive model evaluation is the International Land Model Benchmarking (ILAMB) Project: https://www.ilamb.org. They provide a suite of tools with which you can evaluate your model across a wide variety of datasets."
   ]
  },
  {
   "cell_type": "markdown",
   "metadata": {},
   "source": [
    "Typical metrics that we use to evaluate the models are:\n",
    "\n",
    "* Absolute bias (e.g. model - observations)\n",
    "* RMSE\n",
    "* Correlation (R) or R$^{2}$\n",
    "* Monthly or annual mean or total\n",
    "* Mean seasonal cycle (mean for each day or month over several years)\n",
    "* Long-term (often annual) trend\n",
    "* Inter-annual variability (annual mean/total - the long-term mean/total over the whole timeseries)\n",
    "\n",
    "\n",
    "**Question: when reading literature for your in-class project have you come across any other metrics and/or methods for evaluating models with observations? If so, what are those metrics/methods (briefly)? Include a reference if that helps.**\n",
    "\n",
    "ANSWER:\n"
   ]
  },
  {
   "cell_type": "markdown",
   "metadata": {},
   "source": [
    "We will calculate some of these metrics in upcoming classes. For now, we will just plot the daily model against the daily observations to see the general patterns between the model and the observations.\n",
    "\n",
    "In the code boxes below we're going to read in a csv file containing observations for:\n",
    "\n",
    "- Litter Rh\n",
    "- Soil Rh\n",
    "- Total Rh (litter plus soil)\n",
    "- Litter C\n",
    "- Soil C\n",
    "- Total C (litter plus soil)\n",
    "\n",
    "The units are gCm$^{-2}$dt$^{-1}$ for Rh and kgCm$^{-2}$ for the C stocks.\n",
    "\n",
    "We use the same code as we used to read in the inputs:"
   ]
  },
  {
   "cell_type": "code",
   "execution_count": 23,
   "metadata": {},
   "outputs": [
    {
     "name": "stdout",
     "output_type": "stream",
     "text": [
      "       Rh_litter   Rh_soil  Rh_total  C_litter     C_soil    C_total\n",
      "TSTEP                                                               \n",
      "0       0.970152  0.758216  1.728368  4.570169  21.359884  25.930054\n",
      "1       1.333419  0.930100  2.263519  4.569037  21.360292  25.929329\n",
      "2       1.896636  1.258065  3.154700  4.566769  21.360943  25.927711\n",
      "3       2.038155  1.399666  3.437821  4.564220  21.361593  25.925814\n",
      "4       1.062093  0.976790  2.038883  4.563635  21.361677  25.925312\n"
     ]
    }
   ],
   "source": [
    "# - read in observations\n",
    "obs_file = 'obs/carbon_2pool_model_obs.csv'\n",
    "obs = pd.read_csv(obs_file, index_col=0)\n",
    "print(obs.head())"
   ]
  },
  {
   "cell_type": "code",
   "execution_count": 28,
   "metadata": {},
   "outputs": [
    {
     "data": {
      "image/png": "[encoded data removed]",
      "text/plain": [
       "<Figure size 432x288 with 1 Axes>"
      ]
     },
     "metadata": {
      "needs_background": "light"
     },
     "output_type": "display_data"
    }
   ],
   "source": [
    "# - plot C stock for soil pool compared to the observations(changed axes limits to 0 to 30kgC/m2)\n",
    "tot_Cpools = Cpools[:,0] + Cpools[:,1]    # - equivalent to np.sum(Cpools, axis=1) for those familiar with Python\n",
    "plt.plot(tot_Cpools, label='Model')\n",
    "plt.plot(obs.C_total, label='Obs')\n",
    "plt.xlabel('Tstep')\n",
    "plt.ylabel('Total C (kgCm$^{-2}$)')\n",
    "plt.ylim(0,30)\n",
    "plt.legend()\n",
    "plt.show()"
   ]
  },
  {
   "cell_type": "markdown",
   "metadata": {},
   "source": [
    "**Exercise: in the box below modify the code above to plot the model timeseries compared to the observations for 1) the litter Rh; 2) the soil Rh; 3) the total Rh (litter + soil); 4) Litter C and 5) Soil C.** Add a label for the model and obs and plot the legend so you know which curve is which. Change the axes titles and y-axis limits as needed. \n",
    "*Then answer the questions below.*"
   ]
  },
  {
   "cell_type": "code",
   "execution_count": 1,
   "metadata": {},
   "outputs": [],
   "source": [
    "# - write code here\n",
    "\n"
   ]
  },
  {
   "cell_type": "markdown",
   "metadata": {},
   "source": [
    "Now answer the following questions:\n",
    "\n",
    "**Question: What do you notice about all the respiration plots? Why are the curves so different? [Hint: think about units]**\n",
    "\n",
    "ANSWER:\n",
    "\n",
    "**Exercise: modify the code above so the Rh model and observation curves can be directly compared. Once you have modified the code, answr the following questions.**\n",
    "\n",
    "**Questions: i) Is the model total Rh overestimating or underestimating the observations? ii) Which Rh flux (litter or soil) is contributing most to this bias?**\n",
    "\n",
    "ANSWERS:\n",
    "\n",
    "**Questions: i) What is the difference between the model and observed litter and soil C pool? ii) Why do you think this is? iii) And why do you think these differences are not as easily observed when looking at the timeseries for the total soil C?**\n",
    "\n",
    "ANSWERS:\n"
   ]
  },
  {
   "cell_type": "markdown",
   "metadata": {},
   "source": [
    "**That's it for this model evaluation exercise. Complete all the exercises and questions and upload your jupyter notebook to Canvas.**"
   ]
  }
 ],
 "metadata": {
  "kernelspec": {
   "display_name": "Python 2",
   "language": "python",
   "name": "python2"
  },
  "language_info": {
   "codemirror_mode": {
    "name": "ipython",
    "version": 2
   },
   "file_extension": ".py",
   "mimetype": "text/x-python",
   "name": "python",
   "nbconvert_exporter": "python",
   "pygments_lexer": "ipython2",
   "version": "2.7.15"
  }
 },
 "nbformat": 4,
 "nbformat_minor": 2
}
