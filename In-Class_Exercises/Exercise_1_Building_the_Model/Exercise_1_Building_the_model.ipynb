{
 "cells": [
  {
   "cell_type": "markdown",
   "metadata": {},
   "source": [
    "In Python, we need to import various libraries to help us with reading/manipulating data (Pandas), performing numerical calculations (NumPy) and plotting data (Matplotlib). For more information on all these libraries please see the course notes for GEOG-G489/589 Big Data Geospatial Analysis in Python: https://github.com/nmacbean/GEOG-G489-589"
   ]
  },
  {
   "cell_type": "code",
   "execution_count": 7,
   "metadata": {},
   "outputs": [],
   "source": [
    "import numpy as np\n",
    "import pandas as pd\n",
    "import matplotlib.pyplot as plt"
   ]
  },
  {
   "cell_type": "markdown",
   "metadata": {},
   "source": [
    "# Exercise 1: Building a simple carbon model\n",
    "\n",
    "In this exercise we will write the code needed to build the simple two pool carbon model that was introduced here: https://github.com/nmacbean/GEOG-G440-540/blob/master/In-Class%20Exercises/Introduction%20to%20the%20simple%20C%20model.md\n",
    "\n",
    "Learning outcomes:\n",
    "- Learn how to set-up the model, including specifying parameters (fixed values of the model)\n",
    "- Learn how to read in model input data and how to use an exploratory plotting analysis to examine those input data\n",
    "- Learn how to code the model equations to run the model\n",
    "- Plot resultant model simulations and answer questions to test understanding of model performance."
   ]
  },
  {
   "cell_type": "markdown",
   "metadata": {},
   "source": [
    "## Model Set-up\n",
    "\n",
    "Before running the model we need to set-up various components of the model, including any model parameters (fixed values) in the model:"
   ]
  },
  {
   "cell_type": "markdown",
   "metadata": {},
   "source": [
    "### Parameters\n",
    "\n",
    "Here is a list of the 12 model parameters, their descriptions and units (where relevant):\n",
    "\n",
    "#### Parameters for the environmental limitations\n",
    "- Q10: Q10 temperature limitation on heterotrophic respiration (Rh)\n",
    "- Tref: reference temperature for Q10 equation (Kelvin)\n",
    "- Wf_m: 'm' coefficient for the moisture limitation on Rh  \n",
    "- Wf_x0: 'x0' coefficient for the moisture limitation on Rh \n",
    "- Wf_min: minimum value for moisture limitation on Rh\n",
    "- Wf_max: maximum value for moisture limitation on Rh\n",
    "\n",
    "#### Parameters for the turnover time of each pool\n",
    "- tau_litter: turnover time of the litter C pool (years)\n",
    "- tau_soil: turnover time of the soil C pool (years)\n",
    "\n",
    "#### Parameters for the microbial efficiency of each pool\n",
    "- Me_litter: microbial efficiency of the litter pool (fraction)\n",
    "- Me_soil: microbial efficiency of the soil pool (fraction)\n",
    "\n",
    "#### Parameters for the initial carbon stock of each pool\n",
    "- C_litter_t0: initial C stock of the litter pool (kgC/m2)\n",
    "- C_soil_t0: initial C stock of the soil pool (kgC/m2)\n",
    "\n",
    "#### Timestep\n",
    "- dt = timestep"
   ]
  },
  {
   "cell_type": "code",
   "execution_count": 8,
   "metadata": {},
   "outputs": [],
   "source": [
    "# -\n",
    "# - set default parameters\n",
    "# -\n",
    "Q10 = 2.\n",
    "Tref = 303.15    # 30 degrees C in K\n",
    "Wf_m = -2.\n",
    "Wf_x0 = 0.6\n",
    "Wf_min = 0.05\n",
    "Wf_max = 1.\n",
    "tau_litter = 0.5\n",
    "tau_soil = 60\n",
    "Me_litter = 0.3\n",
    "Me_soil = 0.1\n",
    "C_litter_t0 = 3\n",
    "C_soil_t0 = 22\n",
    "\n",
    "# -\n",
    "# - other \n",
    "# - \n",
    "dt = 1/365.\n",
    "npools = 2"
   ]
  },
  {
   "cell_type": "markdown",
   "metadata": {},
   "source": [
    "-------"
   ]
  },
  {
   "cell_type": "markdown",
   "metadata": {},
   "source": [
    "## Model inputs (drivers/forcing)\n",
    "\n",
    "Next, we need to read in the input data (i.e. the data that we will use to drive or run the model). Remember that for a full TEM run we would need various climate data \"forcings\".\n",
    "\n",
    "To keep things simple for this model, we have five different sets of input data to this model:\n",
    "\n",
    "1. Litter input from leaf turnover (during senescence) - units in file are gCm$^{-2}$dt$^{-1}$\n",
    "2. Temperature in the litter layer - units in file are $^{\\circ}$C\n",
    "3. Moisture in the litter layer - units in file are in volumetric (or relative) water content (i.e. range from 0 to 1.)\n",
    "4. Temperature in the soil layer\n",
    "5. Moisture in the soil layer"
   ]
  },
  {
   "cell_type": "markdown",
   "metadata": {},
   "source": [
    "Note that in a full TEM the temperature and the moisture would have been calculated in the energy budget and hydrology modules of the model. See the powerpoints slides on these two components for more information. The litter carbon input would have already been calculated as part of the complete carbon cycle part of the model. C uptake by the plants would have been calculated via the photosythesis and phenology modules, autotrophic respiration would have already occurred (to give NPP), the NPP would have been allocated to different aboveground biomass pools (leaves, stem etc). The litter input comes from the leaves (and any dead wood) that fall off the trees during the autumn each year."
   ]
  },
  {
   "cell_type": "markdown",
   "metadata": {},
   "source": [
    "First, we need to convert our input data into the right units. For example, the temperature needs to be in Kelvin and the litter input needs to be in kgC rather than gC given the C pools and fluxes in the model will be in kgC."
   ]
  },
  {
   "cell_type": "code",
   "execution_count": 9,
   "metadata": {},
   "outputs": [],
   "source": [
    "# - unit conversions\n",
    "degC_to_K = 273.15\n",
    "gC_to_kgC = 1e-3"
   ]
  },
  {
   "cell_type": "markdown",
   "metadata": {},
   "source": [
    "Next, we need to read in the input data and convert the relevant variables to the correct units. This we do using the code below. We then print the first few lines of input data to see if everything looks ok."
   ]
  },
  {
   "cell_type": "code",
   "execution_count": 10,
   "metadata": {},
   "outputs": [],
   "source": [
    "# - read in inputs\n",
    "input_file = 'inputs/carbon_2pool_model_inputs.csv'\n",
    "input_data = pd.read_csv(input_file, index_col=0)\n",
    "\n",
    "# - convert temperature to K\n",
    "input_data.LITTER_TEMP += degC_to_K\n",
    "input_data.SOIL_TEMP += degC_to_K\n",
    "\n",
    "# - convert litter input to kgC\n",
    "input_data.LITTER_INPUT *= gC_to_kgC"
   ]
  },
  {
   "cell_type": "code",
   "execution_count": 11,
   "metadata": {},
   "outputs": [
    {
     "name": "stdout",
     "output_type": "stream",
     "text": [
      "       LITTER_INPUT  LITTER_TEMP  LITTER_MOIST   SOIL_TEMP  SOIL_MOIST\n",
      "TSTEP                                                                 \n",
      "0               0.0   269.764838      0.958876  270.663672    0.997947\n",
      "1               0.0   275.324255      0.983762  273.570197    0.998970\n",
      "2               0.0   281.750983      0.999995  278.072485    1.000000\n",
      "3               0.0   282.473273      0.998394  279.588538    0.999838\n",
      "4               0.0   270.587561      0.982143  274.326941    0.998997\n"
     ]
    }
   ],
   "source": [
    "# - print out first few lines of input data\n",
    "print(input_data.head())"
   ]
  },
  {
   "cell_type": "markdown",
   "metadata": {},
   "source": [
    "Now we have read in the input data we can work out the number of timesteps in the input data, which we do using the following code. This will be important for calculating the C fluxes between pools, the heterotrophic respiration and the evolution of the two C pools over time."
   ]
  },
  {
   "cell_type": "code",
   "execution_count": 12,
   "metadata": {},
   "outputs": [
    {
     "name": "stdout",
     "output_type": "stream",
     "text": [
      "4015\n"
     ]
    }
   ],
   "source": [
    "# - calculate the number of timesteps from the input data\n",
    "ntsteps = len(input_data.index)\n",
    "print(ntsteps)"
   ]
  },
  {
   "cell_type": "markdown",
   "metadata": {},
   "source": [
    "**Question: why are there 4015 timesteps?** [Hint: think back to what I told you about the input data]\n",
    "\n",
    "ANSWER: "
   ]
  },
  {
   "cell_type": "markdown",
   "metadata": {},
   "source": [
    "Now we want to plot the input data to see what they look like. In the box below I have used the matplotlib plotting library to plot the litter input data for the first 3 years."
   ]
  },
  {
   "cell_type": "code",
   "execution_count": 13,
   "metadata": {},
   "outputs": [
    {
     "data": {
      "image/png": "[encoded data removed]",
      "text/plain": [
       "<Figure size 432x288 with 1 Axes>"
      ]
     },
     "metadata": {
      "needs_background": "light"
     },
     "output_type": "display_data"
    }
   ],
   "source": [
    "# plot litter input data for first 3 years (1095 days)\n",
    "plt.plot(input_data.LITTER_INPUT[:1095])\n",
    "plt.xlabel('Tstep')\n",
    "plt.ylabel('Litter inputs to soil')\n",
    "plt.show()"
   ]
  },
  {
   "cell_type": "markdown",
   "metadata": {},
   "source": [
    "**Question: why do the litter input data look like this (with spikes at certain times of the year)?**\n",
    "\n",
    "ANSWER: "
   ]
  },
  {
   "cell_type": "markdown",
   "metadata": {},
   "source": [
    "**Exercise: in the box below, copy and modify the code above to plot the temperature and moisture input data for the litter layer.** Check that the time series of temperature and moisture data make sense to you given the site location of the data. If not, ask me."
   ]
  },
  {
   "cell_type": "code",
   "execution_count": 14,
   "metadata": {},
   "outputs": [],
   "source": [
    "# - write code here\n"
   ]
  },
  {
   "cell_type": "markdown",
   "metadata": {},
   "source": [
    "-------\n",
    "-------"
   ]
  },
  {
   "cell_type": "markdown",
   "metadata": {},
   "source": [
    "## Model Code\n",
    "\n",
    "In the next sections we will examine the relevant equations needed to set up the model as well as the code we use to implement the equations and run the model."
   ]
  },
  {
   "cell_type": "markdown",
   "metadata": {},
   "source": [
    "### Model equations for the environmental limitation functions\n",
    "\n",
    "As we saw in the introduction to the model, here are the following equations for the temperature and moisture limitation functions:\n",
    "\n",
    "#### Temperature limitation equation\n",
    "\\begin{equation*}\n",
    "f(T) = Q10^{((T_{Cpool}-30)/10)}\n",
    "\\end{equation*}\n",
    "\n",
    "*where T$_{Cpool}$ is the temperature of each C pool in K*\n",
    "\n",
    "#### Moisture limitation equation\n",
    "\\begin{equation*}\n",
    "f(W) = max(0.05, m(W - x0)^2 + 1.0)\n",
    "\\end{equation*}\n",
    "\n",
    "*where W is the volumetric water content (VWC).*  \n",
    "f(W) is a quadratic formula with a minimum of 0.05 and a maximum of 1.\n",
    "\n",
    "In the boxes below we will write the above equations in the computational code we need to run the model and plot the resultant fuctions."
   ]
  },
  {
   "cell_type": "code",
   "execution_count": 15,
   "metadata": {},
   "outputs": [],
   "source": [
    "# -\n",
    "# - temperature function for litter and soil\n",
    "# -\n",
    "ftemp_litter = Q10**((input_data.LITTER_TEMP - Tref)/10.)\n",
    "ftemp_soil = Q10**((input_data.SOIL_TEMP - Tref)/10.)"
   ]
  },
  {
   "cell_type": "markdown",
   "metadata": {},
   "source": [
    "Note that this equation will calculate the temperature limitation function for the whole time series of the input temperature data. We can plot this below for the litter layer."
   ]
  },
  {
   "cell_type": "code",
   "execution_count": 16,
   "metadata": {},
   "outputs": [
    {
     "data": {
      "image/png": "[encoded data removed]",
      "text/plain": [
       "<Figure size 432x288 with 1 Axes>"
      ]
     },
     "metadata": {
      "needs_background": "light"
     },
     "output_type": "display_data"
    }
   ],
   "source": [
    "# - plot the temperature limitation function for the litter pool over time\n",
    "plt.plot(ftemp_litter)\n",
    "plt.xlabel('Tstep')\n",
    "plt.ylabel('Q10 temperature limitation for litter pool')\n",
    "plt.show()"
   ]
  },
  {
   "cell_type": "markdown",
   "metadata": {},
   "source": [
    "We can see that the temperature limitation function varies between about 0 and 0.85 as it is supposed to do. \n",
    "\n",
    "To see the shape of the temperature limitation function we can plot a scatter plot between the function and the input temperature data. The example below is for the litter layer:"
   ]
  },
  {
   "cell_type": "code",
   "execution_count": 17,
   "metadata": {},
   "outputs": [
    {
     "data": {
      "image/png": "[encoded data removed]",
      "text/plain": [
       "<Figure size 432x288 with 1 Axes>"
      ]
     },
     "metadata": {
      "needs_background": "light"
     },
     "output_type": "display_data"
    }
   ],
   "source": [
    "# - plot the relationship between the litter temperature and the temperature limitation function for the litter layer\n",
    "plt.scatter(input_data.LITTER_TEMP-273.15, ftemp_litter)\n",
    "plt.xlabel('Litter temp ($^{o}$C)')\n",
    "plt.ylabel('Q10 temperature limitation for litter pool')\n",
    "plt.show()"
   ]
  },
  {
   "cell_type": "markdown",
   "metadata": {},
   "source": [
    "Again, from this plot we can see that the temperature limitation function varies between 0 and around 0.85."
   ]
  },
  {
   "cell_type": "markdown",
   "metadata": {},
   "source": [
    "**Exercise: in the box below, modify the code above to plot the temperature limitation function for the *soil* layer**"
   ]
  },
  {
   "cell_type": "code",
   "execution_count": 18,
   "metadata": {},
   "outputs": [],
   "source": [
    "# - write code here"
   ]
  },
  {
   "cell_type": "markdown",
   "metadata": {},
   "source": [
    "**Question: What do you notice about the difference between the litter and soil *temperature* limitation functions?**\n",
    "\n",
    "ANSWER:"
   ]
  },
  {
   "cell_type": "code",
   "execution_count": 19,
   "metadata": {},
   "outputs": [],
   "source": [
    "# -\n",
    "# - moisture function\n",
    "# -\n",
    "fmoist_litter = np.maximum(Wf_min, Wf_max + Wf_m * ( (input_data.LITTER_MOIST - Wf_x0)**2 ))\n",
    "fmoist_soil = np.maximum(Wf_min, Wf_max + Wf_m * ( (input_data.SOIL_MOIST - Wf_x0)**2 ))"
   ]
  },
  {
   "cell_type": "markdown",
   "metadata": {},
   "source": [
    "As for the temperature limitation function, the above equations will calculate the moisture limitation function for the whole time series of the input moisture data. We can plot this below for the litter layer."
   ]
  },
  {
   "cell_type": "code",
   "execution_count": 20,
   "metadata": {},
   "outputs": [
    {
     "data": {
      "image/png": "[encoded data removed]",
      "text/plain": [
       "<Figure size 432x288 with 1 Axes>"
      ]
     },
     "metadata": {
      "needs_background": "light"
     },
     "output_type": "display_data"
    }
   ],
   "source": [
    "# - plot the moisture limitation function for the litter pool over time\n",
    "plt.plot(fmoist_litter)\n",
    "plt.xlabel('Tstep')\n",
    "plt.ylabel('Moisture limitation for litter pool')\n",
    "plt.show()"
   ]
  },
  {
   "cell_type": "markdown",
   "metadata": {},
   "source": [
    "From this plot we can see that the moisture limitation function mostly varies between 0.68 and 1 but lower values are possible at times of low soil moisture.\n",
    "\n",
    "To see the overall shape of the moisture limitation function we can plot a scatter plot between the function and the input temperature data. The example below is for the litter layer:"
   ]
  },
  {
   "cell_type": "code",
   "execution_count": 21,
   "metadata": {},
   "outputs": [
    {
     "data": {
      "image/png": "[encoded data removed]",
      "text/plain": [
       "<Figure size 432x288 with 1 Axes>"
      ]
     },
     "metadata": {
      "needs_background": "light"
     },
     "output_type": "display_data"
    }
   ],
   "source": [
    "# - plot relationship between litter moisture and the moisture limitation fucntion for the litter pool\n",
    "plt.scatter(input_data.LITTER_MOIST, fmoist_litter)\n",
    "plt.xlabel('Litter moisture')\n",
    "plt.ylabel('Moisture limitation for litter pool')\n",
    "plt.show()"
   ]
  },
  {
   "cell_type": "markdown",
   "metadata": {},
   "source": [
    "**Exercise: in the box below, modify the code above to plot the moisture limitation function for the soil layer**"
   ]
  },
  {
   "cell_type": "code",
   "execution_count": 22,
   "metadata": {},
   "outputs": [],
   "source": [
    "# - write code here\n"
   ]
  },
  {
   "cell_type": "markdown",
   "metadata": {},
   "source": [
    "**Question: What do you notice about the difference between the litter and soil *moisture* limitation functions?**\n",
    "\n",
    "ANSWER:"
   ]
  },
  {
   "cell_type": "markdown",
   "metadata": {},
   "source": [
    "-----------"
   ]
  },
  {
   "cell_type": "markdown",
   "metadata": {},
   "source": [
    "### Model equations for calculation of C fluxes and changes in C stocks per timestep\n",
    "\n",
    "Now we examine the equations for the heterotrophic respiration fluxes, the transfer of C between the two pools, and the resultant evolution of the two C pools over time. See the introduction to the model and powerpoint slides on \"Biogeochemistry in TEMs\" for more information.\n",
    "\n",
    "#### General equation for C decomposed\n",
    "\\begin{equation*}\n",
    "C_{tot\\_decomp} = C_{pool_x}.\\frac{\\Delta t}{\\tau_{pool_x}}.f(T)_{pool_x}.f(W)_{pool_x}\\qquad(1)\n",
    "\\end{equation*}\n",
    "\n",
    "Note: this total C that is decomposed will be split into C that is transferred to to another pool (this is the amount that corresponds to the microbial efficiency fraction) and C that is released via heterotrophic respiration (this equals the fraction that is 1 minus the microbial efficiency fraction).\n",
    "\n",
    "#### C flux from litter to the soil C pool\n",
    "\\begin{equation*}\n",
    "C_{litter \\to soil} = C_{litter}.\\frac{\\Delta t}{\\tau_{litter}}.f(T)_{litter}.f(W)_{litter}.M_{e,litter}\\qquad(2)\n",
    "\\end{equation*}\n",
    "\n",
    "where C$_{litter}$ is the C stock of the litter pool, *$\\Delta$t* is the change in time (i.e. 1 timestep), $\\tau_{litter}$ is the turnover time of the litter pool, *f(T)$_{litter}$* and *f(W)$_{litter}$* are the temperature and moisture limitations for the litter pool that we have already calculated, and *M*$_{e,litter}$ is the microbial efficiency of the litter pool (i.e. the fraction of C that gets transferred between pools).\n",
    "\n",
    "#### Heterotrophic respiration (*R*$_{h,litter}$) from litter pool\n",
    "\\begin{equation*}\n",
    "R_{h,litter} = C_{litter}.\\frac{\\Delta t}{\\tau_{litter}}.f(T)_{litter}.f(W)_{litter}.(1 - M_{e,litter})\\qquad(3)\n",
    "\\end{equation*}\n",
    "\n",
    "where (*1-M*$_{e,litter}$) is the fraction of C that is respired and *not* transferred between pools.\n",
    "\n",
    "#### C flux from the soil to the litter C pool\n",
    "\\begin{equation*}\n",
    "C_{soil \\to litter} = C_{soil}.\\frac{\\Delta t}{\\tau_{soil}}.f(T)_{soil}.f(W)_{soil}.M_{e,soil}\\qquad(4)\n",
    "\\end{equation*}\n",
    "\n",
    "#### Heterotrophic respiration (*R*$_{h,soil}$) from soil pool\n",
    "\\begin{equation*}\n",
    "R_{h,soil} = C_{soil}.\\frac{\\Delta t}{\\tau_{soil}}.f(T)_{soil}.f(W)_{soil}.(1 - M_{e,soil})\\qquad(5)\n",
    "\\end{equation*}\n",
    "\n",
    "\n",
    "#### Change of C stock in litter pool\n",
    "\\begin{equation*}\n",
    "\\frac{dC_{litter}}{dt} = L_{input} - C_{litter \\to soil} - R_{h,litter} + C_{soil \\to litter}\\qquad(6)\n",
    "\\end{equation*}\n",
    "\n",
    "Note: C$_{litter \\to soil}$ plus R$_{h,litter}$ equals the total amount of C decomposed from the litter pool (following Eq. 1).\n",
    "\n",
    "#### Change of C stock in soil pool\n",
    "\\begin{equation*}\n",
    "\\frac{dC_{soil}}{dt} = C_{litter \\to soil} - C_{soil \\to litter} - R_{h,soil}\\qquad(7)\n",
    "\\end{equation*}\n",
    "\n",
    "Note: C$_{soil \\to litter}$ plus R$_{h,soil}$ equals the total amount of C decomposed from the soil pool (following Eq. 1).\n",
    "\n",
    "#### Total heterotrophic respiration (*R*$_{h,tot}$)\n",
    "\\begin{equation*}\n",
    "R_{h,tot} = R_{h,litter} + R_{h,soil}\\qquad(8)\n",
    "\\end{equation*}\n",
    "\n",
    "\n",
    "Before we code these calculations into the model, we first need to \"initialize\" our model variables so we can keep track of the fluxes and C pools over time:"
   ]
  },
  {
   "cell_type": "code",
   "execution_count": 23,
   "metadata": {},
   "outputs": [],
   "source": [
    "# -\n",
    "# - initialize model variables\n",
    "# -\n",
    "\n",
    "# - litter and soil C pools (want to save time series)\n",
    "Cpools = np.zeros((ntsteps+1, npools))\n",
    "Cpools[0,0] = C_litter_t0\n",
    "Cpools[0,1] = C_soil_t0\n",
    "\n",
    "# - litter and soil Rh (want to save timeseries)\n",
    "Rh = np.zeros((ntsteps, npools))\n",
    "\n",
    "# - total C decomp each tstep\n",
    "Cdecomp = np.zeros(npools)\n",
    "\n",
    "# - total C transferred\n",
    "Ctrans = np.zeros(npools)"
   ]
  },
  {
   "cell_type": "markdown",
   "metadata": {},
   "source": [
    "**Now we can finally code the bulk of the model to calculate the changes in C pools and fluxes over time.**\n",
    "\n",
    "As you can see from the equations above, each calculation is performed at each timestep; therefore, we need to *loop* over each timestep in the input files, calculate the fluxes between pools (and the heterotrophic respiration) and update the carbon stocks for each pool **at each timestep**. For this, we need a \"for loop\": https://en.wikipedia.org/wiki/For_loop. For loops iterate over each item in an array. In this case, the array is the time series of input data."
   ]
  },
  {
   "cell_type": "code",
   "execution_count": 24,
   "metadata": {},
   "outputs": [],
   "source": [
    "# -\n",
    "# - begin model simulations\n",
    "# -\n",
    "\n",
    "# - set up for loop over total number of timesteps in input data\n",
    "for nt in np.arange(ntsteps):\n",
    "    \n",
    "    # - calculate the total amount of C decomposed in each pool (prior to splitting between C transferred and Rh) (Eq. 1)\n",
    "    Cdecomp[0] = Cpools[nt,0] * (dt/tau_litter) * ftemp_litter[nt] * fmoist_litter[nt]\n",
    "    Cdecomp[1] = Cpools[nt,1] * (dt/tau_soil) * ftemp_soil[nt] * fmoist_soil[nt]\n",
    "    \n",
    "    # - calculate the fraction of C transferred from one pool to the other (Eqns. 2 and 4)\n",
    "    Ctrans[0] = Cdecomp[0] * Me_litter\n",
    "    Ctrans[1] = Cdecomp[1] * Me_soil\n",
    "    \n",
    "    # - calculate the heterotrophic respiration in each pool (Eqns. 3 and 5)\n",
    "    Rh[nt,0] = Cdecomp[0] * (1. - Me_litter)\n",
    "    Rh[nt,1] = Cdecomp[1] * (1. - Me_soil)\n",
    "    \n",
    "    # - calculate evolution of C pools (Eqns. 6 and 7) --> NOTE: updating C pool from current to next tstep\n",
    "    Cpools[nt+1,0] = Cpools[nt,0] + input_data.LITTER_INPUT[nt] - Cdecomp[0] + Ctrans[1]\n",
    "    Cpools[nt+1,1] = Cpools[nt,1] + Ctrans[0] - Cdecomp[1]\n",
    "\n",
    "# -\n",
    "# - end of the model\n",
    "# -"
   ]
  },
  {
   "cell_type": "markdown",
   "metadata": {},
   "source": [
    "-------\n",
    "-------"
   ]
  },
  {
   "cell_type": "markdown",
   "metadata": {},
   "source": [
    "## Plotting the results\n",
    "\n",
    "Now we have looped over all the timesteps of the input data we can plot the results. \n",
    "\n",
    "In the box below I have plotted the *R$_{h}$* for the litter pool and the total C stock for both the litter and the soil pool."
   ]
  },
  {
   "cell_type": "code",
   "execution_count": 25,
   "metadata": {},
   "outputs": [
    {
     "data": {
      "image/png": "[encoded data removed]",
      "text/plain": [
       "<Figure size 432x288 with 1 Axes>"
      ]
     },
     "metadata": {
      "needs_background": "light"
     },
     "output_type": "display_data"
    },
    {
     "data": {
      "image/png": "[encoded data removed]",
      "text/plain": [
       "<Figure size 432x288 with 1 Axes>"
      ]
     },
     "metadata": {
      "needs_background": "light"
     },
     "output_type": "display_data"
    }
   ],
   "source": [
    "# - plot Rh_litter\n",
    "plt.plot(Rh[:,0])\n",
    "plt.xlabel('Tstep')\n",
    "plt.ylabel('Litter Rh (kgCm$^{-2}$dt$^{-1}$)')\n",
    "plt.show()\n",
    "\n",
    "# - plot C stock for soil pool (changed axes limits to 0 to 30kgC/m2)\n",
    "tot_Cpools = Cpools[:,0] + Cpools[:,1]    # - equivalent to np.sum(Cpools, axis=1) for those familiar with Python\n",
    "plt.plot(tot_Cpools)\n",
    "plt.xlabel('Tstep')\n",
    "plt.ylabel('Total C (kgCm$^{-2}$)')\n",
    "plt.ylim(0,30)\n",
    "plt.show()"
   ]
  },
  {
   "cell_type": "markdown",
   "metadata": {},
   "source": [
    "**Exercise: in the box below modify the code above to plot the soil Rh, the total Rh (litter + soil) and C for each pool (i.e. litter and soil separately) over time.** Change the axes titles and y-axis limits as needed."
   ]
  },
  {
   "cell_type": "code",
   "execution_count": 26,
   "metadata": {},
   "outputs": [],
   "source": [
    "# - write code here\n",
    "\n"
   ]
  },
  {
   "cell_type": "markdown",
   "metadata": {},
   "source": [
    "Using all 6 plots above (R$_{h,litter}$, R$_{h,soil}$, R$_{h,tot}$, C$_{litter}$, C$_{soil}$ and C$_{tot}$), answer the following questions:\n",
    "\n",
    "**Question: What causes the cyclical variations in the heterotrophic respiration fluxes?**\n",
    "\n",
    "ANSWER:\n",
    "\n",
    "**Question: Is the total Rh stable over time? If not, why is this?**\n",
    "\n",
    "ANSWER:\n",
    "\n",
    "**Question: How is the temporal evolution of the litter C pool different from the soil C pool? Why?**\n",
    "\n",
    "ANSWER:"
   ]
  },
  {
   "cell_type": "markdown",
   "metadata": {},
   "source": [
    "**That's it for this introductory exercise. Complete all the exercises and questions and upload your jupyter notebook to Canvas.**"
   ]
  }
 ],
 "metadata": {
  "kernelspec": {
   "display_name": "Python 2",
   "language": "python",
   "name": "python2"
  },
  "language_info": {
   "codemirror_mode": {
    "name": "ipython",
    "version": 2
   },
   "file_extension": ".py",
   "mimetype": "text/x-python",
   "name": "python",
   "nbconvert_exporter": "python",
   "pygments_lexer": "ipython2",
   "version": "2.7.15"
  }
 },
 "nbformat": 4,
 "nbformat_minor": 2
}
